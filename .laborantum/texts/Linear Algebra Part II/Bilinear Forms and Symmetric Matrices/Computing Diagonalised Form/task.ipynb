{
 "cells": [
  {
   "cell_type": "code",
   "execution_count": null,
   "metadata": {},
   "outputs": [],
   "source": [
    "import numpy as np\n",
    "import scipy as sp\n",
    "import json_tricks"
   ]
  },
  {
   "cell_type": "code",
   "execution_count": null,
   "metadata": {},
   "outputs": [],
   "source": [
    "### YOUR CODE HERE ###"
   ]
  },
  {
   "cell_type": "code",
   "execution_count": null,
   "metadata": {},
   "outputs": [],
   "source": [
    "import numpy as np\n",
    "from scipy.linalg import lu\n",
    "\n",
    "def diagonalize(A):\n",
    "    \n",
    "    A = np.array(A)\n",
    "    eigenvalues, eigenvectors = np.linalg.eigh(A)\n",
    "\n",
    "    sorted_indices = np.argsort(eigenvalues)[::-1]\n",
    "    eigenvalues = eigenvalues[sorted_indices]\n",
    "    eigenvectors = eigenvectors[:, sorted_indices]\n",
    "\n",
    "    for i in range(eigenvectors.shape[1]):\n",
    "        if eigenvectors[0, i] < 0:\n",
    "            eigenvectors[:, i] = -eigenvectors[:, i]\n",
    "\n",
    "    Lambda = []\n",
    "\n",
    "    for i in range(len(A)):\n",
    "        Lambda.append(np.float64(A[i, i]))\n",
    "\n",
    "    Lambda=np.array(Lambda)\n",
    "\n",
    "    P, L, U = lu(A)\n",
    "\n",
    "    D = np.diag(U)\n",
    "\n",
    "    if np.all(eigenvalues > 0):\n",
    "        definiteness = '+'  \n",
    "    elif np.all(eigenvalues < 0):\n",
    "        definiteness = '-'  \n",
    "    elif np.all(eigenvalues >= 0):\n",
    "        definiteness = '0+'  \n",
    "    elif np.all(eigenvalues <= 0):\n",
    "        definiteness = '0-'  \n",
    "    else:\n",
    "        definiteness = '+-'  \n",
    "\n",
    "    return Lambda, eigenvectors, D, L, definiteness\n"
   ]
  },
  {
   "cell_type": "code",
   "execution_count": null,
   "metadata": {},
   "outputs": [],
   "source": [
    "inputs = json_tricks.load('inputs.json')\n",
    "\n",
    "outputs = []\n",
    "\n",
    "for input in inputs:\n",
    "    outputs.append(diagonalize(**input))\n",
    "\n",
    "json_tricks.dump(outputs, '.answer.json')"
   ]
  }
 ],
 "metadata": {
  "kernelspec": {
   "display_name": "Python 3",
   "language": "python",
   "name": "python3"
  },
  "language_info": {
   "codemirror_mode": {
    "name": "ipython",
    "version": 3
   },
   "file_extension": ".py",
   "mimetype": "text/x-python",
   "name": "python",
   "nbconvert_exporter": "python",
   "pygments_lexer": "ipython3",
   "version": "3.11.10"
  }
 },
 "nbformat": 4,
 "nbformat_minor": 2
}
