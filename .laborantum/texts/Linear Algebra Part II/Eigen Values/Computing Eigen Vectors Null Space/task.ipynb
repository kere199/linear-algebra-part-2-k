{
 "cells": [
  {
   "cell_type": "code",
   "execution_count": null,
   "metadata": {},
   "outputs": [],
   "source": [
    "import numpy as np\n",
    "import json_tricks\n",
    "import scipy as sp"
   ]
  },
  {
   "cell_type": "code",
   "execution_count": null,
   "metadata": {},
   "outputs": [],
   "source": [
    "### NOTE: this is technichal \n",
    "### YOUR CODE HERE ###"
   ]
  },
  {
   "cell_type": "code",
   "execution_count": null,
   "metadata": {},
   "outputs": [],
   "source": [
    "import linalg\n",
    "def get_eigenvectors(A, lambdas):\n",
    "    res = []\n",
    "    \n",
    "    for lambda_val in lambdas:\n",
    "        # Solve the system (A - lambda * I) * x = 0 to find the eigenvector\n",
    "        I = np.eye(A.shape[0])  # Identity matrix\n",
    "        matrix = A - lambda_val * I\n",
    "        \n",
    "        # Use `linalg.null_space` to find the null space (which gives eigenvector)\n",
    "        eigenvector = linalg.null_space(matrix)\n",
    "        \n",
    "        if eigenvector.shape[1] > 0:\n",
    "            # Take the first non-zero eigenvector found (typically, it's a 1D vector)\n",
    "            vector = eigenvector[:, 0]\n",
    "            \n",
    "            # Normalize the eigenvector\n",
    "            norm = np.linalg.norm(vector)\n",
    "            vector = vector / norm\n",
    "            \n",
    "            # Ensure the first coordinate is non-negative\n",
    "            if vector[0] < 0:\n",
    "                vector = -vector\n",
    "            \n",
    "            res.append(vector)\n",
    "    \n",
    "    # Sort the eigenvectors in descending order based on the first coordinate\n",
    "    res = sorted(res, key=lambda x: x[0], reverse=True)\n",
    "    \n",
    "    return np.array(res)"
   ]
  },
  {
   "cell_type": "code",
   "execution_count": null,
   "metadata": {},
   "outputs": [],
   "source": [
    "inputs = json_tricks.load('inputs.json')\n",
    "\n",
    "results = []\n",
    "for input in inputs:\n",
    "    res = get_eigenvectors(**input)\n",
    "    results.append(res)\n",
    "\n",
    "json_tricks.dump(results, '.answer.json')"
   ]
  }
 ],
 "metadata": {
  "kernelspec": {
   "display_name": "Python (Container)",
   "language": "python",
   "name": "container_env"
  },
  "language_info": {
   "codemirror_mode": {
    "name": "ipython",
    "version": 3
   },
   "file_extension": ".py",
   "mimetype": "text/x-python",
   "name": "python",
   "nbconvert_exporter": "python",
   "pygments_lexer": "ipython3",
   "version": "3.11.10"
  }
 },
 "nbformat": 4,
 "nbformat_minor": 2
}
