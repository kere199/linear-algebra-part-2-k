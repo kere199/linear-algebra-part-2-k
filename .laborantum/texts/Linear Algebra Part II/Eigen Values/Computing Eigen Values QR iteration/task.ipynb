{
 "cells": [
  {
   "cell_type": "code",
   "execution_count": null,
   "metadata": {},
   "outputs": [],
   "source": [
    "import numpy as np\n",
    "import json_tricks"
   ]
  },
  {
   "cell_type": "code",
   "execution_count": null,
   "metadata": {},
   "outputs": [],
   "source": [
    "import numpy as np\n",
    "\n",
    "def qr_iteration(A):\n",
    "    def one_step(A):\n",
    "        Q, R = np.linalg.qr(A)\n",
    "        return np.dot(R, Q)\n",
    "\n",
    "    def compute_dif(neig, leig):\n",
    "        return np.sum(np.abs(neig - leig))\n",
    "\n",
    "    def compute_dev(B):\n",
    "        return np.max(np.abs(np.tril(B, -1)))\n",
    "\n",
    "    A = A.astype('float64')\n",
    "    devs = [compute_dev(A)]\n",
    "    \n",
    "    B = one_step(A)\n",
    "    leig = np.diag(B)\n",
    "    devs.append(compute_dev(B))\n",
    "    \n",
    "    dif = 1\n",
    "    while dif > 1e-10:\n",
    "        B = one_step(B)\n",
    "        neig = np.diag(B)\n",
    "        dif = compute_dif(neig, leig)\n",
    "        leig = neig\n",
    "        devs.append(compute_dev(B))\n",
    "    \n",
    "    return leig, devs"
   ]
  },
  {
   "cell_type": "code",
   "execution_count": null,
   "metadata": {},
   "outputs": [],
   "source": [
    "from tqdm import tqdm\n",
    "\n",
    "inputs = json_tricks.load('inputs.json')\n",
    "\n",
    "results = []\n",
    "for args in tqdm(inputs):\n",
    "    res = qr_iteration(**args)\n",
    "    results.append(res)\n",
    "\n",
    "json_tricks.dump(results, '.answer.json')"
   ]
  },
  {
   "cell_type": "code",
   "execution_count": null,
   "metadata": {},
   "outputs": [],
   "source": [
    "import matplotlib.pyplot as plt\n",
    "\n",
    "for res in results[:10]:\n",
    "    misfits = res[1]\n",
    "    plt.plot(np.array(misfits))\n",
    "\n"
   ]
  }
 ],
 "metadata": {
  "kernelspec": {
   "display_name": "Python (Container)",
   "language": "python",
   "name": "container_env"
  },
  "language_info": {
   "codemirror_mode": {
    "name": "ipython",
    "version": 3
   },
   "file_extension": ".py",
   "mimetype": "text/x-python",
   "name": "python",
   "nbconvert_exporter": "python",
   "pygments_lexer": "ipython3",
   "version": "3.11.10"
  }
 },
 "nbformat": 4,
 "nbformat_minor": 2
}
